{
 "cells": [
  {
   "cell_type": "code",
   "execution_count": 15,
   "metadata": {
    "collapsed": true
   },
   "outputs": [],
   "source": [
    "import requests\n",
    "from bs4 import BeautifulSoup\n",
    "from selenium import webdriver\n",
    "from selenium.webdriver.common.keys import Keys\n",
    "from selenium.webdriver.common.by import By\n",
    "\n",
    "\n",
    "\n"
   ]
  },
  {
   "cell_type": "code",
   "execution_count": 7,
   "metadata": {},
   "outputs": [],
   "source": [
    "driver = webdriver.Firefox()\n"
   ]
  },
  {
   "cell_type": "code",
   "execution_count": 8,
   "metadata": {
    "collapsed": true
   },
   "outputs": [],
   "source": [
    "driver.get(\"https://volt.lider-bet.com/?v=102\")\n"
   ]
  },
  {
   "cell_type": "code",
   "execution_count": 19,
   "metadata": {},
   "outputs": [
    {
     "data": {
      "text/plain": [
       "[<selenium.webdriver.firefox.webelement.FirefoxWebElement (session=\"5017e1da-0b9d-422b-aa40-d047abe0119b\", element=\"959eb081-eb08-4709-bcc4-d46cf37b7104\")>,\n",
       " <selenium.webdriver.firefox.webelement.FirefoxWebElement (session=\"5017e1da-0b9d-422b-aa40-d047abe0119b\", element=\"986cbd3d-ab2f-4ac8-a516-c93118a6f75c\")>,\n",
       " <selenium.webdriver.firefox.webelement.FirefoxWebElement (session=\"5017e1da-0b9d-422b-aa40-d047abe0119b\", element=\"c961246f-0545-4a36-bb4d-72525793a771\")>,\n",
       " <selenium.webdriver.firefox.webelement.FirefoxWebElement (session=\"5017e1da-0b9d-422b-aa40-d047abe0119b\", element=\"d59a08f6-3cf8-469e-8a45-080eb4da992c\")>,\n",
       " <selenium.webdriver.firefox.webelement.FirefoxWebElement (session=\"5017e1da-0b9d-422b-aa40-d047abe0119b\", element=\"0d2cfbac-2106-4c46-902d-fa284a915ea1\")>,\n",
       " <selenium.webdriver.firefox.webelement.FirefoxWebElement (session=\"5017e1da-0b9d-422b-aa40-d047abe0119b\", element=\"c66b4ee7-b11a-4822-944a-565098e0f85d\")>,\n",
       " <selenium.webdriver.firefox.webelement.FirefoxWebElement (session=\"5017e1da-0b9d-422b-aa40-d047abe0119b\", element=\"59b7017b-ba91-4d4b-a78a-b1b3ff77e364\")>,\n",
       " <selenium.webdriver.firefox.webelement.FirefoxWebElement (session=\"5017e1da-0b9d-422b-aa40-d047abe0119b\", element=\"3ffa1281-6893-43b4-9e04-23f75de53a39\")>,\n",
       " <selenium.webdriver.firefox.webelement.FirefoxWebElement (session=\"5017e1da-0b9d-422b-aa40-d047abe0119b\", element=\"08165189-d866-479a-ae07-03765ecdcf35\")>,\n",
       " <selenium.webdriver.firefox.webelement.FirefoxWebElement (session=\"5017e1da-0b9d-422b-aa40-d047abe0119b\", element=\"ae987ba9-de0d-419e-b58a-86ce37f406a9\")>,\n",
       " <selenium.webdriver.firefox.webelement.FirefoxWebElement (session=\"5017e1da-0b9d-422b-aa40-d047abe0119b\", element=\"6e0a7ff4-8d89-4d30-aaed-558341f52762\")>,\n",
       " <selenium.webdriver.firefox.webelement.FirefoxWebElement (session=\"5017e1da-0b9d-422b-aa40-d047abe0119b\", element=\"e97452bb-9e49-457c-b392-5fff8e0e36d9\")>,\n",
       " <selenium.webdriver.firefox.webelement.FirefoxWebElement (session=\"5017e1da-0b9d-422b-aa40-d047abe0119b\", element=\"dac38a19-1808-439c-a79d-519a67270593\")>,\n",
       " <selenium.webdriver.firefox.webelement.FirefoxWebElement (session=\"5017e1da-0b9d-422b-aa40-d047abe0119b\", element=\"18626248-2b75-492a-80c6-bfea9bea8fb7\")>,\n",
       " <selenium.webdriver.firefox.webelement.FirefoxWebElement (session=\"5017e1da-0b9d-422b-aa40-d047abe0119b\", element=\"1a2f00e1-8e46-4424-a567-3a1dc9086f8f\")>,\n",
       " <selenium.webdriver.firefox.webelement.FirefoxWebElement (session=\"5017e1da-0b9d-422b-aa40-d047abe0119b\", element=\"315db73e-7d4a-4e0e-8d81-3c17e4a604c9\")>,\n",
       " <selenium.webdriver.firefox.webelement.FirefoxWebElement (session=\"5017e1da-0b9d-422b-aa40-d047abe0119b\", element=\"d9789cf1-cf16-4f66-9c33-40a5b1867627\")>,\n",
       " <selenium.webdriver.firefox.webelement.FirefoxWebElement (session=\"5017e1da-0b9d-422b-aa40-d047abe0119b\", element=\"36b91a97-5f3c-484b-9e9e-e56ff1c4e858\")>,\n",
       " <selenium.webdriver.firefox.webelement.FirefoxWebElement (session=\"5017e1da-0b9d-422b-aa40-d047abe0119b\", element=\"de000ca8-62c7-4719-884f-49c17c45c741\")>,\n",
       " <selenium.webdriver.firefox.webelement.FirefoxWebElement (session=\"5017e1da-0b9d-422b-aa40-d047abe0119b\", element=\"bd5ebd97-ad51-438b-8607-c116bbcedecf\")>,\n",
       " <selenium.webdriver.firefox.webelement.FirefoxWebElement (session=\"5017e1da-0b9d-422b-aa40-d047abe0119b\", element=\"4c798d86-507d-49ef-9421-df56dc9de3e3\")>]"
      ]
     },
     "execution_count": 19,
     "metadata": {},
     "output_type": "execute_result"
    }
   ],
   "source": [
    "driver.find_elements(By.CLASS_NAME, 'current-bet')\n"
   ]
  },
  {
   "cell_type": "code",
   "execution_count": 55,
   "metadata": {},
   "outputs": [
    {
     "data": {
      "text/plain": [
       "[<div class=\"message busted\">ჩაიწვა! <br/> <span></span></div>]"
      ]
     },
     "execution_count": 55,
     "metadata": {},
     "output_type": "execute_result"
    }
   ],
   "source": [
    "page = requests.get(\"https://volt.lider-bet.com/?v=102\")\n",
    "soup = BeautifulSoup(page.content, 'html.parser')\n",
    "soup.find_all(class_=\"busted\")\n"
   ]
  },
  {
   "cell_type": "code",
   "execution_count": 40,
   "metadata": {
    "scrolled": true
   },
   "outputs": [
    {
     "data": {
      "text/plain": [
       "'ჩაიწვა!  '"
      ]
     },
     "execution_count": 40,
     "metadata": {},
     "output_type": "execute_result"
    }
   ],
   "source": [
    "#soup.find_all('hmtl')[0].get_text()\n",
    "\n",
    "\n",
    "\n"
   ]
  },
  {
   "cell_type": "code",
   "execution_count": null,
   "metadata": {
    "collapsed": true
   },
   "outputs": [],
   "source": []
  }
 ],
 "metadata": {
  "kernelspec": {
   "display_name": "Python 3",
   "language": "python",
   "name": "python3"
  },
  "language_info": {
   "codemirror_mode": {
    "name": "ipython",
    "version": 3
   },
   "file_extension": ".py",
   "mimetype": "text/x-python",
   "name": "python",
   "nbconvert_exporter": "python",
   "pygments_lexer": "ipython3",
   "version": "3.6.1"
  }
 },
 "nbformat": 4,
 "nbformat_minor": 2
}
